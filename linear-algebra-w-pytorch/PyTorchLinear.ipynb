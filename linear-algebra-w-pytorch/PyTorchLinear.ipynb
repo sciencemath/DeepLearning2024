{
 "cells": [
  {
   "cell_type": "markdown",
   "id": "31f7d43e-2a34-4b37-abe7-cb4ca567cbf3",
   "metadata": {},
   "source": [
    "The following notebook is baisc PyTorch Linear Algebra for review and notes"
   ]
  },
  {
   "cell_type": "markdown",
   "id": "f9c91720-3a11-44b2-b574-7f4ca2d3250e",
   "metadata": {},
   "source": [
    "### Element wise operations"
   ]
  },
  {
   "cell_type": "code",
   "execution_count": 6,
   "id": "25462a87-3e01-47b9-9e44-e863af2b62c9",
   "metadata": {},
   "outputs": [],
   "source": [
    "import torch\n",
    "a = torch.tensor([[1], [2], [4], [8]])\n",
    "b = torch.tensor([[1], [0.5], [0.25], [0.125]])"
   ]
  },
  {
   "cell_type": "code",
   "execution_count": 16,
   "id": "07441716-8a80-4adc-ba68-75d5660ca276",
   "metadata": {},
   "outputs": [
    {
     "name": "stdout",
     "output_type": "stream",
     "text": [
      "tensor([[2.0000],\n",
      "        [2.5000],\n",
      "        [4.2500],\n",
      "        [8.1250]])\n",
      "tensor([[0.0000],\n",
      "        [1.5000],\n",
      "        [3.7500],\n",
      "        [7.8750]])\n",
      "tensor([[1.],\n",
      "        [1.],\n",
      "        [1.],\n",
      "        [1.]])\n",
      "tensor([[ 1.],\n",
      "        [ 4.],\n",
      "        [16.],\n",
      "        [64.]])\n",
      "tensor(11)\n"
     ]
    }
   ],
   "source": [
    "print(a + b)\n",
    "print(a - b)\n",
    "print(a * b)\n",
    "print(a / b)\n",
    "print(torch.dot(torch.tensor([1, 2]), torch.tensor([3, 4])))"
   ]
  },
  {
   "cell_type": "markdown",
   "id": "1df23b40-8205-4771-aae3-964b154163c9",
   "metadata": {},
   "source": [
    "Sigmoid is used a lot in machine learning as it represnts a value between 0 sigmoid(-infinity) and 1 sigmoid(+infinity)\n",
    "$$\n",
    "    \\sigma = \\frac{1}{1+e^{-x}}\n",
    "$$"
   ]
  },
  {
   "cell_type": "code",
   "execution_count": 9,
   "id": "80899baa-aa42-4b76-b574-cdbd2296f43d",
   "metadata": {},
   "outputs": [
    {
     "name": "stdout",
     "output_type": "stream",
     "text": [
      "tensor([[0.7311],\n",
      "        [0.8808],\n",
      "        [0.9820],\n",
      "        [0.9997]])\n"
     ]
    }
   ],
   "source": [
    "print(torch.sigmoid(a))"
   ]
  },
  {
   "cell_type": "markdown",
   "id": "573d7c4b-5e91-44eb-a1a4-dd8bbcb16262",
   "metadata": {},
   "source": [
    "ReLU (Rectified Linear Unit) is also used a lot in machine learning, if value < 0 then 0 and value > 0 then its the value itself. "
   ]
  },
  {
   "cell_type": "code",
   "execution_count": 10,
   "id": "329a24b9-2720-4b2e-bb14-8cdafa675fc1",
   "metadata": {},
   "outputs": [
    {
     "name": "stdout",
     "output_type": "stream",
     "text": [
      "tensor([4, 0, 0, 2])\n"
     ]
    }
   ],
   "source": [
    "c = torch.tensor([4, -4, 0, 2])\n",
    "print(torch.relu(c))"
   ]
  },
  {
   "cell_type": "code",
   "execution_count": 12,
   "id": "cac9c79d-448c-4c1d-b88d-4b537eec177d",
   "metadata": {},
   "outputs": [
    {
     "name": "stdout",
     "output_type": "stream",
     "text": [
      "tensor([[[0.7204, 0.6914],\n",
      "         [0.5328, 0.4590],\n",
      "         [0.6924, 0.0677],\n",
      "         [0.1331, 0.3136]],\n",
      "\n",
      "        [[0.3598, 0.9800],\n",
      "         [0.2434, 0.5260],\n",
      "         [0.8095, 0.4079],\n",
      "         [0.6437, 0.7622]],\n",
      "\n",
      "        [[0.5389, 0.0035],\n",
      "         [0.1880, 0.2451],\n",
      "         [0.2731, 0.7007],\n",
      "         [0.5499, 0.6288]]])\n",
      "torch.Size([3, 4, 2])\n"
     ]
    }
   ],
   "source": [
    "random_tensor = torch.rand((3, 4, 2)) # three dimensional tensor with random values\n",
    "print(random_tensor) \n",
    "print(random_tensor.shape)"
   ]
  },
  {
   "cell_type": "markdown",
   "id": "ec6923f7-c865-41f7-8eb3-c07da0db7990",
   "metadata": {},
   "source": [
    "The dot product of 2 vectors is the same as the the norm of the vectors times cos(theta):\n",
    "$$\n",
    "    |\\vec{a}||\\vec{b}|cos(\\theta)\n",
    "$$\n",
    "This way we can express it geometrically"
   ]
  },
  {
   "cell_type": "markdown",
   "id": "81f8d8d2-2f8c-431d-889e-29ab937d2078",
   "metadata": {},
   "source": [
    "CLIP – Contrastive Language-Image Pretraining\n",
    "a neural network with both language and vision (mutimodal model)"
   ]
  },
  {
   "cell_type": "code",
   "execution_count": 21,
   "id": "11020681-bd69-4627-a6b7-aa8f5a44ef44",
   "metadata": {},
   "outputs": [
    {
     "data": {
      "application/vnd.jupyter.widget-view+json": {
       "model_id": "e23fc92993a04d4d955190ea92db0b27",
       "version_major": 2,
       "version_minor": 0
      },
      "text/plain": [
       "preprocessor_config.json:   0%|          | 0.00/316 [00:00<?, ?B/s]"
      ]
     },
     "metadata": {},
     "output_type": "display_data"
    },
    {
     "data": {
      "application/vnd.jupyter.widget-view+json": {
       "model_id": "251e1d3ff030400294b296579d974d1e",
       "version_major": 2,
       "version_minor": 0
      },
      "text/plain": [
       "tokenizer_config.json:   0%|          | 0.00/592 [00:00<?, ?B/s]"
      ]
     },
     "metadata": {},
     "output_type": "display_data"
    },
    {
     "data": {
      "application/vnd.jupyter.widget-view+json": {
       "model_id": "8c7997d72d794621ba63822c591bcabd",
       "version_major": 2,
       "version_minor": 0
      },
      "text/plain": [
       "vocab.json:   0%|          | 0.00/862k [00:00<?, ?B/s]"
      ]
     },
     "metadata": {},
     "output_type": "display_data"
    },
    {
     "data": {
      "application/vnd.jupyter.widget-view+json": {
       "model_id": "947e606a5768481ebcf557bf94b2f416",
       "version_major": 2,
       "version_minor": 0
      },
      "text/plain": [
       "merges.txt:   0%|          | 0.00/525k [00:00<?, ?B/s]"
      ]
     },
     "metadata": {},
     "output_type": "display_data"
    },
    {
     "data": {
      "application/vnd.jupyter.widget-view+json": {
       "model_id": "b427c1c71feb41e18de6e5f74b39b573",
       "version_major": 2,
       "version_minor": 0
      },
      "text/plain": [
       "tokenizer.json:   0%|          | 0.00/2.22M [00:00<?, ?B/s]"
      ]
     },
     "metadata": {},
     "output_type": "display_data"
    },
    {
     "data": {
      "application/vnd.jupyter.widget-view+json": {
       "model_id": "901c4803e87b49b0a924bfa01e5738b8",
       "version_major": 2,
       "version_minor": 0
      },
      "text/plain": [
       "special_tokens_map.json:   0%|          | 0.00/389 [00:00<?, ?B/s]"
      ]
     },
     "metadata": {},
     "output_type": "display_data"
    }
   ],
   "source": [
    "from transformers import CLIPProcessor, CLIPModel\n",
    "model = CLIPModel.from_pretrained(\"openai/clip-vit-base-patch32\")\n",
    "processor = CLIPProcessor.from_pretrained(\"openai/clip-vit-base-patch32\")"
   ]
  },
  {
   "cell_type": "code",
   "execution_count": 25,
   "id": "1c4086e5-3fcd-4890-a160-8e64a8b2d9fb",
   "metadata": {},
   "outputs": [
    {
     "name": "stdout",
     "output_type": "stream",
     "text": [
      "tensor([[-1.0570e-01,  1.3791e-01, -2.9612e-01,  2.1249e-02, -6.4068e-02,\n",
      "         -1.6862e-01, -1.3515e-01, -2.4467e-03,  4.7376e-01, -1.7627e-01,\n",
      "          2.4440e-01, -3.7972e-01,  4.8330e-02, -1.3981e-01, -3.4045e-01,\n",
      "         -1.2676e-01, -2.3266e-01, -2.9760e-01,  1.7886e-01,  4.9609e-02,\n",
      "         -1.3074e+00, -3.2436e-02,  4.2144e-01, -3.3363e-01, -4.7372e-02,\n",
      "          2.9805e-01,  2.3910e-01, -1.8429e-01,  1.5669e-01, -4.8808e-02,\n",
      "         -7.7587e-02,  2.5887e-01, -7.3552e-02,  1.7692e-01, -5.7918e-01,\n",
      "         -4.9201e-03,  2.7906e-01, -2.8706e-01,  1.9080e-01,  3.2632e-01,\n",
      "         -1.0051e-01, -3.4647e-01,  7.1681e-03, -1.4746e-01, -1.9010e-01,\n",
      "          5.7778e-04,  5.2023e-01,  1.5117e-01, -9.1645e-02,  1.7595e-01,\n",
      "          1.6325e-01,  2.5157e-01,  1.1609e-01, -5.3789e-02,  2.2871e-01,\n",
      "          1.8608e-01,  2.5763e-01,  6.0314e-01, -2.5823e-01, -1.6781e-01,\n",
      "          4.2385e-01, -1.3951e-01, -6.3744e-02,  3.5568e-01, -7.4245e-02,\n",
      "         -2.7096e-01,  2.2417e-01,  1.0962e+00,  1.9659e-01,  7.8920e-02,\n",
      "          2.0099e-01, -1.0657e-01,  2.7643e-01,  2.7661e-01,  4.9342e-01,\n",
      "         -1.6944e-02,  6.3947e-02, -3.4031e-01, -5.2759e-02, -1.3829e-01,\n",
      "         -1.8781e-01, -6.7634e-01, -4.5839e-01, -1.5787e-02, -5.5268e-01,\n",
      "          2.6263e-01,  4.3102e-01, -5.3736e-01,  2.9391e-01,  9.3342e-02,\n",
      "          1.7963e-01,  2.7744e-02, -7.3421e+00,  3.2606e-01, -2.1535e-01,\n",
      "          6.7098e-02,  1.7348e-01, -4.2522e-01, -9.2658e-01,  1.2663e+00,\n",
      "         -2.9131e-02,  6.1215e-02, -3.0543e-01, -7.5494e-03,  7.2453e-01,\n",
      "          2.5023e-01,  1.2300e+00,  2.6843e-01, -1.8050e-01, -4.7297e-01,\n",
      "         -1.5611e-01, -1.0561e+00,  6.2212e-02,  1.9993e-01,  1.8817e-01,\n",
      "          5.9711e-02,  8.6171e-02,  1.1679e-01,  1.7643e-01, -1.0635e-01,\n",
      "          1.6237e-01, -2.1022e-01, -1.8189e-01,  3.9629e-01, -1.6404e-01,\n",
      "         -9.2914e-02, -6.0283e-02,  5.1840e-01, -1.2987e-01,  2.8777e-02,\n",
      "         -5.2970e-02,  7.8342e-02, -1.9674e-01,  9.4795e-01, -4.1044e-01,\n",
      "         -3.8090e-01,  1.4848e-01, -4.8702e-01, -4.1070e-01, -1.2976e-01,\n",
      "          1.5802e-01, -3.7492e-01,  3.5367e-01,  4.1437e-01, -1.5291e-01,\n",
      "          2.8547e-01,  3.2227e-01, -5.6265e-01,  8.8449e-02,  2.4728e-01,\n",
      "         -4.8397e-01,  1.8799e-01, -3.0983e-01, -2.2551e-01,  1.9979e-02,\n",
      "         -5.9368e-02, -3.3539e-01, -4.7573e-01,  1.1814e-01, -4.0058e-01,\n",
      "         -2.7260e-02, -2.6315e-01,  1.1217e-01,  2.2248e-01,  3.2476e-04,\n",
      "         -3.8470e-01, -5.2014e-01,  5.2815e-01,  1.4545e-01,  3.0454e-01,\n",
      "          2.2329e-01,  6.8722e-01,  3.0521e-01, -2.2130e-01, -2.1167e-01,\n",
      "          1.8806e-01,  2.2055e-02,  5.4692e-02,  6.9692e-02,  2.5776e-01,\n",
      "         -3.7218e-01,  2.3236e-01, -1.2269e-01, -3.6241e-01, -5.8697e-02,\n",
      "          1.3109e-01,  1.6811e-01, -3.7950e-01,  3.2862e-01, -1.7761e-01,\n",
      "          3.4697e-01, -2.8875e-01, -5.4294e-01, -1.3271e-01, -4.8733e-01,\n",
      "         -3.3037e-02, -2.6275e-01, -3.4988e-01, -1.1122e+00, -4.2773e-01,\n",
      "          4.3965e-02,  3.6076e-01,  1.3401e-01,  1.8444e-01, -1.0153e-01,\n",
      "         -1.2238e-02,  3.2831e-01,  6.7401e-02, -3.0257e-01,  5.6250e-01,\n",
      "         -4.1210e-01,  5.1786e-01, -3.5433e-02,  3.3271e-01, -4.2546e-01,\n",
      "         -3.5231e-01, -2.9041e-03, -7.1605e-01,  8.2597e-01, -3.9524e-01,\n",
      "          3.6191e-03,  1.5516e-01, -1.9975e-01,  1.6137e-01, -4.9928e-02,\n",
      "          3.6856e-01,  1.4779e-01, -6.9429e-02,  2.4153e-02, -1.9426e-01,\n",
      "         -1.5364e-01,  5.1794e-02, -3.3299e-01,  7.6162e-01,  2.7636e-01,\n",
      "         -5.3359e-01, -3.5004e-01,  1.3251e-01,  1.4886e-01, -1.8810e-01,\n",
      "          3.5506e-01, -1.8194e-01, -1.2301e-01, -2.9973e-02, -3.2487e-01,\n",
      "          6.2948e-01,  1.2428e-01, -4.6406e-02, -1.0913e-01,  7.0813e-01,\n",
      "          1.4804e-02,  2.7664e-01, -1.6041e-01, -7.4246e-02,  1.9206e-01,\n",
      "          4.8417e-02, -4.0807e-02, -2.7543e-01, -6.3991e-01, -4.4218e-02,\n",
      "         -8.5916e-02,  3.3267e-02, -3.5339e-03,  4.5339e-01,  3.2682e-01,\n",
      "         -1.0774e-01, -5.3721e-01, -4.2815e-01, -2.8198e-01,  6.1131e-02,\n",
      "         -2.4625e-01, -2.0745e-01,  3.1999e-01, -1.3205e-01, -2.2901e-01,\n",
      "         -1.8604e-01, -1.7491e-02,  1.7489e-01, -4.3999e-01,  1.0667e-01,\n",
      "          3.4010e-01,  2.5526e-01, -3.8551e-01, -6.2775e-02, -2.2571e-01,\n",
      "          7.5087e-02,  1.7718e-02, -1.3167e-02,  4.8331e-01, -1.9816e-01,\n",
      "         -1.4375e-01,  1.7781e-01,  2.7621e-01,  3.0707e-01,  1.8930e-01,\n",
      "          1.9520e-01,  2.6625e-01, -5.7480e-01,  7.9333e-03, -1.5115e-01,\n",
      "          2.3183e-01, -1.4169e-01, -1.1890e-01,  4.3253e-01, -9.8076e-02,\n",
      "          3.0851e-01, -6.7049e-02,  3.7698e-01,  8.8925e-02, -1.8221e-01,\n",
      "         -5.8741e-01,  2.7006e-01,  9.4688e-01, -6.2512e-02, -1.8787e-01,\n",
      "          2.5662e-01,  1.5217e-01,  4.8820e-01,  1.8438e-01,  2.5828e-01,\n",
      "         -1.9514e-01,  1.6153e+00, -5.8381e-01, -3.6166e-02, -2.4056e-01,\n",
      "         -1.3784e-01, -9.4208e-02,  5.7140e-01,  1.9949e-01,  2.6507e-02,\n",
      "          1.4180e-02, -1.5593e-01, -1.7336e-01, -1.4924e-01,  3.4074e-02,\n",
      "          5.3849e-01,  7.3388e-02,  1.1542e-01, -1.5296e-02, -2.2720e-02,\n",
      "         -1.9321e-02, -5.7206e-02,  2.1121e-01,  7.7402e-02,  2.0938e-01,\n",
      "         -4.9050e-01, -1.2306e-01,  1.6134e-01, -8.3674e-02,  3.4776e-02,\n",
      "          1.1503e-01, -2.2666e-01,  5.5621e-01, -4.0450e-01, -2.0487e-01,\n",
      "         -1.0600e-01, -2.7015e-01,  2.6361e-01,  2.0264e-01,  3.7978e-01,\n",
      "          1.5335e-01,  1.2605e-01,  5.0136e-04, -1.3195e-01, -4.7007e-01,\n",
      "          1.9779e-01,  2.9090e-01, -5.4812e-01,  5.8499e-01, -1.0590e-01,\n",
      "          4.7545e-01,  5.0500e-01, -2.1749e-01, -5.9405e-01,  3.2484e-01,\n",
      "         -1.5170e-01,  1.8060e+00,  7.1679e-02, -4.2355e-01, -7.4226e-02,\n",
      "          6.7890e-02, -5.1898e-01, -1.6755e-01,  4.2615e-01, -1.2730e-01,\n",
      "          1.6015e-02, -1.1366e-01, -4.3086e-01,  1.2056e-01, -8.4343e-01,\n",
      "         -3.2650e-01, -4.5064e-01,  1.1179e-01, -2.6111e-01,  1.9197e-01,\n",
      "          1.2052e-01,  4.5279e-01, -3.2545e-01, -3.5914e-01, -2.7329e-01,\n",
      "          3.7605e-02,  2.1050e-01,  4.3316e-01,  2.8789e-01,  9.5154e-02,\n",
      "         -3.6646e-02, -2.0286e-01, -4.5810e-01,  6.2415e-01,  3.4841e-02,\n",
      "          5.0372e-01,  7.9766e-01, -1.8451e-01,  2.6256e-01,  5.5783e-04,\n",
      "         -6.5547e-01, -3.3766e-01, -6.3588e-02, -4.0206e-02, -3.6788e-01,\n",
      "         -5.8009e-01,  3.2927e-01,  2.0086e-01,  4.2279e-01,  1.2953e-01,\n",
      "          2.4376e-03,  1.1159e-01, -3.7128e-01,  6.6182e-01,  2.8009e-01,\n",
      "         -3.2797e-01,  7.9389e-01, -5.1525e-01,  2.6869e-01, -4.8717e-02,\n",
      "         -5.8017e-01, -3.9885e-02,  4.2183e-01,  2.9164e-01,  1.2955e-02,\n",
      "         -1.1650e-01, -2.6768e-01,  6.7935e-02, -1.1774e-01,  3.4765e-01,\n",
      "         -3.4616e-02,  5.2754e-02, -2.9523e-01, -1.9536e-01, -4.1873e-01,\n",
      "         -5.5843e-01, -2.5225e-01, -5.3105e-01,  5.3523e-01, -1.2159e-01,\n",
      "         -3.0841e-01,  3.7261e-01,  4.4894e-01,  1.3557e-01,  4.5114e-01,\n",
      "         -3.2812e-01, -3.9681e-01,  8.4928e-02, -2.9096e-01,  4.1583e-01,\n",
      "          1.4222e-01, -2.9784e-01, -2.1871e-01, -1.9392e-01, -4.0934e-01,\n",
      "          4.2811e-01, -5.0897e-01, -4.1473e-01, -1.0547e-01, -6.7014e-01,\n",
      "         -4.8981e-01, -3.7619e-01, -1.3544e-01, -1.2337e-01, -7.2206e-01,\n",
      "         -6.2177e-02, -9.9812e-02,  5.5190e-02,  7.3064e-02,  2.4990e-01,\n",
      "          1.5880e-01, -2.0090e-01,  1.1332e-01, -2.5104e-01, -1.5370e-01,\n",
      "         -4.3506e-02, -8.5118e-02, -1.9081e-01, -4.1292e-01,  6.2387e-01,\n",
      "          1.9057e-01,  7.9789e-02,  3.0655e-01,  1.2088e-01,  1.3618e-01,\n",
      "         -1.6667e-01,  5.7030e-01, -3.0686e-01, -1.7335e-01,  7.3685e-02,\n",
      "         -2.2815e-01,  1.3495e-01, -4.4910e-01,  1.2777e-01,  8.6682e-01,\n",
      "         -1.4581e-02,  2.5632e-01]], grad_fn=<MmBackward0>)\n"
     ]
    }
   ],
   "source": [
    "import requests\n",
    "from PIL import Image \n",
    "url = \"http://images.cocodataset.org/val2017/000000039769.jpg\"\n",
    "image = Image.open(requests.get(url, stream=True).raw)\n",
    "inputs = processor(images=image, return_tensors=\"pt\")\n",
    "image_features = model.get_image_features(**inputs)\n",
    "\n",
    "print(image_features)"
   ]
  },
  {
   "cell_type": "markdown",
   "id": "9f3736ed-d3d8-432e-89e6-2530f55381ff",
   "metadata": {},
   "source": [
    "Vector databases are key for these embeddings\n",
    "- support for euclidean distance, cosine similarity, and dot product\n",
    "- scalability\n",
    "- specialized indexing\n",
    "- efficient similarity search\n",
    "\n",
    "**Faiss** (Facebook Ai Similarity Search) is an optimization for the dot product used to compare other embeddings"
   ]
  },
  {
   "cell_type": "code",
   "execution_count": 12,
   "id": "9bf3e36f-b217-4245-8305-82bae336757b",
   "metadata": {},
   "outputs": [
    {
     "ename": "ModuleNotFoundError",
     "evalue": "No module named 'langchain'",
     "output_type": "error",
     "traceback": [
      "\u001b[0;31m---------------------------------------------------------------------------\u001b[0m",
      "\u001b[0;31mModuleNotFoundError\u001b[0m                       Traceback (most recent call last)",
      "Cell \u001b[0;32mIn[12], line 1\u001b[0m\n\u001b[0;32m----> 1\u001b[0m \u001b[38;5;28;01mfrom\u001b[39;00m \u001b[38;5;21;01mlangchain\u001b[39;00m\u001b[38;5;21;01m.\u001b[39;00m\u001b[38;5;21;01mvectorstores\u001b[39;00m \u001b[38;5;28;01mimport\u001b[39;00m pinecone\n\u001b[1;32m      2\u001b[0m \u001b[38;5;28;01mfrom\u001b[39;00m \u001b[38;5;21;01mdotenv\u001b[39;00m \u001b[38;5;28;01mimport\u001b[39;00m load_dotenv\n\u001b[1;32m      3\u001b[0m \u001b[38;5;28;01mimport\u001b[39;00m \u001b[38;5;21;01mos\u001b[39;00m\n",
      "\u001b[0;31mModuleNotFoundError\u001b[0m: No module named 'langchain'"
     ]
    }
   ],
   "source": [
    "from pinecone import Pinecone, ServerlessSpec\n",
    "from dotenv import load_dotenv\n",
    "import os\n",
    "\n",
    "pc = Pinecone(api_key=os.getenv(\"PINECONE_API\"))"
   ]
  }
 ],
 "metadata": {
  "kernelspec": {
   "display_name": "Python 3 (ipykernel)",
   "language": "python",
   "name": "python3"
  },
  "language_info": {
   "codemirror_mode": {
    "name": "ipython",
    "version": 3
   },
   "file_extension": ".py",
   "mimetype": "text/x-python",
   "name": "python",
   "nbconvert_exporter": "python",
   "pygments_lexer": "ipython3",
   "version": "3.9.6"
  }
 },
 "nbformat": 4,
 "nbformat_minor": 5
}
